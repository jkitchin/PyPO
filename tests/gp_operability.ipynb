{
 "cells": [
  {
   "cell_type": "code",
   "execution_count": 1,
   "id": "dedfde9c",
   "metadata": {},
   "outputs": [],
   "source": [
    "from shower import shower2x2\n",
    "import sys\n",
    "sys.path.append('../')\n",
    "\n",
    "from src.pyprop import multimodel_rep, OI_calc\n",
    "\n",
    "import numpy as np"
   ]
  },
  {
   "cell_type": "code",
   "execution_count": 2,
   "id": "aee3a842",
   "metadata": {},
   "outputs": [],
   "source": [
    "DOS_bounds =  np.array([[10, 20], \n",
    "                        [70, 100]])\n",
    "\n",
    "AIS_bounds =  np.array([[0.1, 10],\n",
    "                        [0.1, 10]])\n",
    "\n",
    "AIS_resolution =  [20, 20]"
   ]
  },
  {
   "cell_type": "code",
   "execution_count": 3,
   "id": "55dde7bd",
   "metadata": {},
   "outputs": [],
   "source": [
    "from src.pyprop import AIS2AOS_map"
   ]
  },
  {
   "cell_type": "code",
   "execution_count": 4,
   "id": "de98c090",
   "metadata": {},
   "outputs": [],
   "source": [
    "AIS, AOS =  AIS2AOS_map(shower2x2, AIS_bounds, AIS_resolution)"
   ]
  },
  {
   "cell_type": "code",
   "execution_count": 5,
   "id": "eb920e20",
   "metadata": {},
   "outputs": [],
   "source": [
    "AIS =  AIS.reshape(-1,2)\n",
    "AOS =  AOS.reshape(-1,2)"
   ]
  },
  {
   "cell_type": "code",
   "execution_count": 6,
   "id": "9abbbb2a",
   "metadata": {},
   "outputs": [],
   "source": [
    "import matplotlib.pyplot as plt"
   ]
  },
  {
   "cell_type": "code",
   "execution_count": 7,
   "id": "746bd8b7",
   "metadata": {},
   "outputs": [
    {
     "data": {
      "text/plain": [
       "<matplotlib.collections.PathCollection at 0x20c778bd130>"
      ]
     },
     "execution_count": 7,
     "metadata": {},
     "output_type": "execute_result"
    }
   ],
   "source": [
    "plt.scatter(AIS[:,0], AIS[:,1])"
   ]
  },
  {
   "cell_type": "code",
   "execution_count": 8,
   "id": "2de86a86",
   "metadata": {},
   "outputs": [
    {
     "data": {
      "text/plain": [
       "<matplotlib.collections.PathCollection at 0x20c77c225b0>"
      ]
     },
     "execution_count": 8,
     "metadata": {},
     "output_type": "execute_result"
    }
   ],
   "source": [
    "plt.scatter(AOS[:,0], AOS[:,1])"
   ]
  },
  {
   "cell_type": "code",
   "execution_count": 16,
   "id": "34c2f181",
   "metadata": {},
   "outputs": [],
   "source": [
    "rng = np.random.RandomState(0)\n",
    "training_indices = rng.choice(np.arange(AOS.shape[0]), size=50, replace=False)\n",
    "training_indices = np.sort(training_indices)\n",
    "X_train, y_train = AIS[training_indices], AOS[training_indices, 0]\n",
    "inverted_idx = [x not in training_indices for x in range(0, len(AIS))]\n",
    "X_val, y_val = AIS[inverted_idx], AOS[inverted_idx, 0]\n",
    "\n"
   ]
  },
  {
   "cell_type": "code",
   "execution_count": 17,
   "id": "978ac799",
   "metadata": {},
   "outputs": [
    {
     "name": "stdout",
     "output_type": "stream",
     "text": [
      "[  1   6  12  15  37  54  59  60  65  76  78  90 100 102 113 124 132 134\n",
      " 140 141 155 158 170 173 175 176 179 196 199 206 214 225 233 246 255 261\n",
      " 268 286 293 297 303 309 313 322 334 341 344 348 374 399]\n"
     ]
    }
   ],
   "source": [
    "print(training_indices)"
   ]
  },
  {
   "cell_type": "code",
   "execution_count": 18,
   "id": "d20d0ab8",
   "metadata": {},
   "outputs": [
    {
     "name": "stdout",
     "output_type": "stream",
     "text": [
      "[True, False, True, True, True, True, False, True, True, True, True, True, False, True, True, False, True, True, True, True, True, True, True, True, True, True, True, True, True, True, True, True, True, True, True, True, True, False, True, True, True, True, True, True, True, True, True, True, True, True, True, True, True, True, False, True, True, True, True, False, False, True, True, True, True, False, True, True, True, True, True, True, True, True, True, True, False, True, False, True, True, True, True, True, True, True, True, True, True, True, False, True, True, True, True, True, True, True, True, True, False, True, False, True, True, True, True, True, True, True, True, True, True, False, True, True, True, True, True, True, True, True, True, True, False, True, True, True, True, True, True, True, False, True, False, True, True, True, True, True, False, False, True, True, True, True, True, True, True, True, True, True, True, True, True, False, True, True, False, True, True, True, True, True, True, True, True, True, True, True, False, True, True, False, True, False, False, True, True, False, True, True, True, True, True, True, True, True, True, True, True, True, True, True, True, True, False, True, True, False, True, True, True, True, True, True, False, True, True, True, True, True, True, True, False, True, True, True, True, True, True, True, True, True, True, False, True, True, True, True, True, True, True, False, True, True, True, True, True, True, True, True, True, True, True, True, False, True, True, True, True, True, True, True, True, False, True, True, True, True, True, False, True, True, True, True, True, True, False, True, True, True, True, True, True, True, True, True, True, True, True, True, True, True, True, True, False, True, True, True, True, True, True, False, True, True, True, False, True, True, True, True, True, False, True, True, True, True, True, False, True, True, True, False, True, True, True, True, True, True, True, True, False, True, True, True, True, True, True, True, True, True, True, True, False, True, True, True, True, True, True, False, True, True, False, True, True, True, False, True, True, True, True, True, True, True, True, True, True, True, True, True, True, True, True, True, True, True, True, True, True, True, True, True, False, True, True, True, True, True, True, True, True, True, True, True, True, True, True, True, True, True, True, True, True, True, True, True, True, False]\n"
     ]
    }
   ],
   "source": [
    "print(inverted_idx)"
   ]
  },
  {
   "cell_type": "code",
   "execution_count": 20,
   "id": "c10d6058",
   "metadata": {},
   "outputs": [
    {
     "name": "stdout",
     "output_type": "stream",
     "text": [
      "[ 0.72105  3.32632  6.45263  8.01579  9.57895  8.53684 11.14211  1.76316\n",
      "  4.36842 10.1     11.14211  7.49474  2.80526  3.84737  9.57895  5.41053\n",
      "  9.57895 10.62105  3.84737  4.36842 11.66316 13.22632  9.57895 11.14211\n",
      " 12.18421 12.70526 14.26842 13.22632 14.78947  8.53684 12.70526  8.53684\n",
      " 12.70526  9.57895 14.26842  7.49474 11.14211 10.62105 14.26842 16.35263\n",
      "  9.57895 12.70526 14.78947  9.57895 15.83158  9.57895 11.14211 13.22632\n",
      " 16.87368 20.     ]\n"
     ]
    }
   ],
   "source": [
    "print(y_train)"
   ]
  },
  {
   "cell_type": "code",
   "execution_count": 21,
   "id": "3f944b32",
   "metadata": {},
   "outputs": [],
   "source": [
    "from sklearn.gaussian_process import GaussianProcessRegressor\n",
    "from sklearn.gaussian_process.kernels import RBF"
   ]
  },
  {
   "cell_type": "code",
   "execution_count": 22,
   "id": "4233d5c1",
   "metadata": {},
   "outputs": [],
   "source": [
    "kernel = RBF()"
   ]
  },
  {
   "cell_type": "code",
   "execution_count": 23,
   "id": "e548d410",
   "metadata": {},
   "outputs": [],
   "source": [
    "gaussian_process = GaussianProcessRegressor(kernel=kernel)"
   ]
  },
  {
   "cell_type": "code",
   "execution_count": 24,
   "id": "32296da4",
   "metadata": {},
   "outputs": [
    {
     "data": {
      "text/html": [
       "<style>#sk-container-id-1 {color: black;background-color: white;}#sk-container-id-1 pre{padding: 0;}#sk-container-id-1 div.sk-toggleable {background-color: white;}#sk-container-id-1 label.sk-toggleable__label {cursor: pointer;display: block;width: 100%;margin-bottom: 0;padding: 0.3em;box-sizing: border-box;text-align: center;}#sk-container-id-1 label.sk-toggleable__label-arrow:before {content: \"▸\";float: left;margin-right: 0.25em;color: #696969;}#sk-container-id-1 label.sk-toggleable__label-arrow:hover:before {color: black;}#sk-container-id-1 div.sk-estimator:hover label.sk-toggleable__label-arrow:before {color: black;}#sk-container-id-1 div.sk-toggleable__content {max-height: 0;max-width: 0;overflow: hidden;text-align: left;background-color: #f0f8ff;}#sk-container-id-1 div.sk-toggleable__content pre {margin: 0.2em;color: black;border-radius: 0.25em;background-color: #f0f8ff;}#sk-container-id-1 input.sk-toggleable__control:checked~div.sk-toggleable__content {max-height: 200px;max-width: 100%;overflow: auto;}#sk-container-id-1 input.sk-toggleable__control:checked~label.sk-toggleable__label-arrow:before {content: \"▾\";}#sk-container-id-1 div.sk-estimator input.sk-toggleable__control:checked~label.sk-toggleable__label {background-color: #d4ebff;}#sk-container-id-1 div.sk-label input.sk-toggleable__control:checked~label.sk-toggleable__label {background-color: #d4ebff;}#sk-container-id-1 input.sk-hidden--visually {border: 0;clip: rect(1px 1px 1px 1px);clip: rect(1px, 1px, 1px, 1px);height: 1px;margin: -1px;overflow: hidden;padding: 0;position: absolute;width: 1px;}#sk-container-id-1 div.sk-estimator {font-family: monospace;background-color: #f0f8ff;border: 1px dotted black;border-radius: 0.25em;box-sizing: border-box;margin-bottom: 0.5em;}#sk-container-id-1 div.sk-estimator:hover {background-color: #d4ebff;}#sk-container-id-1 div.sk-parallel-item::after {content: \"\";width: 100%;border-bottom: 1px solid gray;flex-grow: 1;}#sk-container-id-1 div.sk-label:hover label.sk-toggleable__label {background-color: #d4ebff;}#sk-container-id-1 div.sk-serial::before {content: \"\";position: absolute;border-left: 1px solid gray;box-sizing: border-box;top: 0;bottom: 0;left: 50%;z-index: 0;}#sk-container-id-1 div.sk-serial {display: flex;flex-direction: column;align-items: center;background-color: white;padding-right: 0.2em;padding-left: 0.2em;position: relative;}#sk-container-id-1 div.sk-item {position: relative;z-index: 1;}#sk-container-id-1 div.sk-parallel {display: flex;align-items: stretch;justify-content: center;background-color: white;position: relative;}#sk-container-id-1 div.sk-item::before, #sk-container-id-1 div.sk-parallel-item::before {content: \"\";position: absolute;border-left: 1px solid gray;box-sizing: border-box;top: 0;bottom: 0;left: 50%;z-index: -1;}#sk-container-id-1 div.sk-parallel-item {display: flex;flex-direction: column;z-index: 1;position: relative;background-color: white;}#sk-container-id-1 div.sk-parallel-item:first-child::after {align-self: flex-end;width: 50%;}#sk-container-id-1 div.sk-parallel-item:last-child::after {align-self: flex-start;width: 50%;}#sk-container-id-1 div.sk-parallel-item:only-child::after {width: 0;}#sk-container-id-1 div.sk-dashed-wrapped {border: 1px dashed gray;margin: 0 0.4em 0.5em 0.4em;box-sizing: border-box;padding-bottom: 0.4em;background-color: white;}#sk-container-id-1 div.sk-label label {font-family: monospace;font-weight: bold;display: inline-block;line-height: 1.2em;}#sk-container-id-1 div.sk-label-container {text-align: center;}#sk-container-id-1 div.sk-container {/* jupyter's `normalize.less` sets `[hidden] { display: none; }` but bootstrap.min.css set `[hidden] { display: none !important; }` so we also need the `!important` here to be able to override the default hidden behavior on the sphinx rendered scikit-learn.org. See: https://github.com/scikit-learn/scikit-learn/issues/21755 */display: inline-block !important;position: relative;}#sk-container-id-1 div.sk-text-repr-fallback {display: none;}</style><div id=\"sk-container-id-1\" class=\"sk-top-container\"><div class=\"sk-text-repr-fallback\"><pre>GaussianProcessRegressor(kernel=RBF(length_scale=1))</pre><b>In a Jupyter environment, please rerun this cell to show the HTML representation or trust the notebook. <br />On GitHub, the HTML representation is unable to render, please try loading this page with nbviewer.org.</b></div><div class=\"sk-container\" hidden><div class=\"sk-item\"><div class=\"sk-estimator sk-toggleable\"><input class=\"sk-toggleable__control sk-hidden--visually\" id=\"sk-estimator-id-1\" type=\"checkbox\" checked><label for=\"sk-estimator-id-1\" class=\"sk-toggleable__label sk-toggleable__label-arrow\">GaussianProcessRegressor</label><div class=\"sk-toggleable__content\"><pre>GaussianProcessRegressor(kernel=RBF(length_scale=1))</pre></div></div></div></div></div>"
      ],
      "text/plain": [
       "GaussianProcessRegressor(kernel=RBF(length_scale=1))"
      ]
     },
     "execution_count": 24,
     "metadata": {},
     "output_type": "execute_result"
    }
   ],
   "source": [
    "gaussian_process.fit(X_train, y_train)"
   ]
  },
  {
   "cell_type": "code",
   "execution_count": 25,
   "id": "1cbcc4c8",
   "metadata": {},
   "outputs": [],
   "source": [
    "mean_prediction, std_prediction = gaussian_process.predict(X_val, return_std=True)"
   ]
  },
  {
   "cell_type": "code",
   "execution_count": 26,
   "id": "ac249b82",
   "metadata": {},
   "outputs": [
    {
     "name": "stdout",
     "output_type": "stream",
     "text": [
      "RBF(length_scale=3.92)\n"
     ]
    }
   ],
   "source": [
    "print(gaussian_process.kernel_)"
   ]
  },
  {
   "cell_type": "code",
   "execution_count": 36,
   "id": "cf0eb8ca",
   "metadata": {},
   "outputs": [],
   "source": [
    "ax = plt.figure().add_subplot(projection='3d')"
   ]
  },
  {
   "cell_type": "code",
   "execution_count": 37,
   "id": "12d738ca",
   "metadata": {},
   "outputs": [
    {
     "data": {
      "text/plain": [
       "<mpl_toolkits.mplot3d.art3d.Path3DCollection at 0x20c7d2c4190>"
      ]
     },
     "execution_count": 37,
     "metadata": {},
     "output_type": "execute_result"
    }
   ],
   "source": [
    "ax.scatter3D(X_val[:,0], X_val[:,1], y_val, label='shower problem y1', linestyle=\n",
    "        'dotted')"
   ]
  },
  {
   "cell_type": "code",
   "execution_count": 38,
   "id": "45622b36",
   "metadata": {},
   "outputs": [
    {
     "data": {
      "text/plain": [
       "<mpl_toolkits.mplot3d.art3d.Path3DCollection at 0x20c7d5eb370>"
      ]
     },
     "execution_count": 38,
     "metadata": {},
     "output_type": "execute_result"
    }
   ],
   "source": [
    "ax2 = plt.figure().add_subplot(projection='3d')\n",
    "\n",
    "ax2.scatter3D(X_val[:,0], X_val[:,1], mean_prediction, label='shower problem y1 - GP', linestyle=\n",
    "        'dotted')"
   ]
  },
  {
   "cell_type": "code",
   "execution_count": 30,
   "id": "81fcad31",
   "metadata": {},
   "outputs": [
    {
     "name": "stdout",
     "output_type": "stream",
     "text": [
      "[ 0.21541  1.23803  1.75981  2.28264  2.80492  3.84713  4.36777  4.88857\n",
      "  5.40967  5.93107  6.97412  7.49525  8.53574  9.05535  9.57489 10.09393\n",
      "  0.72491  1.23601  1.75603  2.27926  2.80272  3.32534  3.84709  4.36833\n",
      "  4.88936  5.41035  5.93136  6.45241  6.97353  7.4947   8.01586  8.53694\n",
      "  9.05793 10.1     10.6204   1.24251  1.75721  2.27866  2.80201  3.325\n",
      "  3.84708  4.36853  4.88972  5.41089  5.93203  6.45308  6.97401  7.49488\n",
      "  8.01581  9.05798  9.5792  10.10052 10.62178  2.28026  2.80226  3.3251\n",
      "  3.84718  4.88932  5.41033  5.93157  6.4529   6.97413  7.49515  8.01602\n",
      "  8.53688  9.05783  9.57888 10.62115 11.66188  2.28433  2.80309  3.32525\n",
      "  3.84744  4.36864  4.88913  5.40957  5.93042  6.45174  6.97328  8.01596\n",
      "  8.53697  9.0579   9.57884 10.09981 10.62078 11.1417  11.66235 12.18169\n",
      "  3.3252   4.36904  4.88962  5.40963  5.92983  6.45064  6.97205  7.49375\n",
      "  8.01538  8.53676  9.05792 10.09993 10.62087 11.14176 11.66258 12.18316\n",
      " 12.70248  3.32614  3.84684  4.36894  4.89026  5.93039  6.45057  6.97145\n",
      "  7.49294  8.01467  8.53633  9.05775 10.10003 11.14202 11.66291 12.18381\n",
      " 12.70459 13.22426  4.89034  5.41143  5.93161  6.45156  6.97191  7.49291\n",
      "  8.01441  8.53606  9.05758  9.57888 10.10002 10.6211  11.14215 12.18412\n",
      " 12.70519 13.74649  4.36916  4.89017  5.41177  5.93264  6.45286  6.97302\n",
      "  7.49362  8.01475  8.53621  9.05767 10.10003 10.62105 11.66318 13.22649\n",
      " 13.74791  4.89133  5.412    5.93316  6.45382  6.97411  7.49451  8.01535\n",
      "  8.53659  9.05796  9.57921 10.10023 10.62112 11.14204 11.66308 12.18418\n",
      " 12.70525 13.74759 14.26906  5.41335  5.93359  6.45432  6.9748   7.49518\n",
      "  8.01581  9.05814  9.57943 10.10049 10.62134 11.14212 11.66304 12.18412\n",
      " 13.22632 13.74732 14.26847 14.78968 15.30942  5.93467  6.45461  6.97507\n",
      "  7.4955   8.01602  9.05801  9.57932 10.10053 10.62149 11.14228 11.6631\n",
      " 12.1841  13.22642 13.74741 14.26827 14.78918 15.30991 15.8285   6.45499\n",
      "  6.97491  7.49541  8.01599  8.53672  9.05772 10.10023 10.62136 11.14229\n",
      " 11.66313 12.18407 12.70521 13.22643 13.74755 14.78914 15.30986 15.83013\n",
      " 16.34739  6.97453  8.01557  8.53652  9.05754  9.57867 10.09988 10.62106\n",
      " 11.66304 12.18399 12.70508 13.2263  13.74749 14.26848 14.78924 15.30996\n",
      " 15.83082 16.351   16.86719  7.49405  8.01469  8.53602  9.05743  9.57874\n",
      " 10.09994 11.14206 11.66301 12.18396 12.70502 13.22619 13.74738 14.78922\n",
      " 15.30997 15.83106 16.87346 17.38922  8.01459  8.53548  9.05719 10.10043\n",
      " 10.62161 11.14255 11.66338 12.18425 13.22643 13.74763 14.26869 15.3101\n",
      " 15.83106 16.35302 16.87609 17.39847 17.91459  8.53675  9.05731 10.10071\n",
      " 10.62214 11.14318 11.66397 12.18475 12.70572 13.22695 13.74832 14.26959\n",
      " 14.7905  15.31102 16.35307 16.87645 17.40172 17.92635 18.44327  9.05962\n",
      " 10.09976 10.621   11.66297 12.1838  12.70485 13.74815 14.27005 14.7916\n",
      " 15.31248 15.83286 16.35353 16.87581 17.4009  17.92862 18.45551 18.97274\n",
      "  9.57941 10.09642 10.61554 11.13567 11.65622 12.17705 12.69833 13.22027\n",
      " 13.74293 14.26603 14.78901 15.31125 15.83241 16.35283 17.39669 17.92323\n",
      " 18.45272 18.9806  19.49608 10.08801 10.60172 11.11832 11.63688 12.15681\n",
      " 12.67794 13.20035 13.72408 14.24888 14.77414 15.29896 15.82243 16.34419\n",
      " 16.86473 17.38554 17.90863 18.43536 18.96459 19.49043]\n"
     ]
    }
   ],
   "source": [
    "print(mean_prediction)"
   ]
  },
  {
   "cell_type": "code",
   "execution_count": 31,
   "id": "3d7a7deb",
   "metadata": {},
   "outputs": [
    {
     "name": "stdout",
     "output_type": "stream",
     "text": [
      "0.9999985773314278\n"
     ]
    }
   ],
   "source": [
    "from sklearn.metrics import r2_score\n",
    "r2 =  r2_score(y_val, mean_prediction)\n",
    "print(r2)"
   ]
  },
  {
   "cell_type": "code",
   "execution_count": 39,
   "id": "627a2095",
   "metadata": {},
   "outputs": [
    {
     "data": {
      "text/plain": [
       "array([ 1.55364, -0.48592,  0.06185,  0.35627, -0.51854,  0.43338,\n",
       "       -1.27945, -0.73825, -0.12546,  0.17926,  0.62969, -1.27254,\n",
       "       -0.04803, -0.07438,  0.90433,  0.68275,  0.7526 ,  0.0204 ,\n",
       "        2.70751,  0.32421, -0.13113,  0.27373,  0.99953,  0.5894 ,\n",
       "        0.26535,  0.61254,  1.56436, -1.13769, -0.83465, -1.39597,\n",
       "        0.89254,  1.43032, -0.08737,  0.97981, -1.13819, -0.09767,\n",
       "       -0.98361, -0.10745, -0.58197, -1.62752, -0.69359, -0.263  ,\n",
       "       -1.18389,  0.9916 ,  1.85399,  0.3438 ,  0.81195, -0.17072,\n",
       "        0.48225,  0.17744,  1.10144,  0.52598, -0.29347, -0.66484,\n",
       "       -0.25232,  0.08095,  0.46094, -0.66818, -0.42389,  0.64239,\n",
       "       -1.22876, -1.55856,  1.38327, -0.0716 , -0.38647, -0.05263,\n",
       "        0.79692, -0.02626,  2.24266,  0.34424, -0.68893,  0.01355,\n",
       "        1.49705,  0.82662,  0.47537,  1.52173, -0.62022, -0.51687,\n",
       "        0.58437,  0.38642,  1.55898, -0.1764 ,  0.08115,  0.71686,\n",
       "       -2.1167 , -0.42695,  0.03491, -0.46781, -0.7119 , -0.88735,\n",
       "       -1.45616, -0.93766,  0.79007, -1.29536,  0.54111, -2.19299,\n",
       "        0.65929,  0.83438, -0.20025,  0.13054])"
      ]
     },
     "execution_count": 39,
     "metadata": {},
     "output_type": "execute_result"
    }
   ],
   "source": [
    "np.random.randn(100)"
   ]
  },
  {
   "cell_type": "code",
   "execution_count": 42,
   "id": "2c4daf9f",
   "metadata": {},
   "outputs": [],
   "source": [
    "y_train2 =  y_train + np.random.randn(y_train.shape[0])"
   ]
  },
  {
   "cell_type": "code",
   "execution_count": 43,
   "id": "bc56dde5",
   "metadata": {},
   "outputs": [
    {
     "name": "stdout",
     "output_type": "stream",
     "text": [
      "[ 0.67463  3.60694  6.3689   8.02279  9.95164  9.4864  12.47557  1.34417\n",
      "  3.64963  8.26807 10.54264  8.60149  2.72834  3.73073  7.60093  6.00556\n",
      "  9.21412 10.47078  5.1426   5.87749 11.2079  13.90458 10.93582 12.17562\n",
      " 12.11897 12.19772 14.21873 14.11994 13.60872  8.86843 13.86968  7.87796\n",
      " 12.76513  9.87614 13.71862  8.30842 12.18641 10.79282 14.94749 15.33963\n",
      "  8.67908 11.78932 14.29264 10.44063 14.31012  9.04563 11.25312 14.23531\n",
      " 18.28612 19.14751]\n"
     ]
    }
   ],
   "source": [
    "print(y_train2)"
   ]
  },
  {
   "cell_type": "code",
   "execution_count": null,
   "id": "b56da123",
   "metadata": {},
   "outputs": [],
   "source": []
  }
 ],
 "metadata": {
  "kernelspec": {
   "display_name": "Python 3 (Spyder)",
   "language": "python3",
   "name": "python3"
  },
  "language_info": {
   "codemirror_mode": {
    "name": "ipython",
    "version": 3
   },
   "file_extension": ".py",
   "mimetype": "text/x-python",
   "name": "python",
   "nbconvert_exporter": "python",
   "pygments_lexer": "ipython3",
   "version": "3.9.13"
  }
 },
 "nbformat": 4,
 "nbformat_minor": 5
}
