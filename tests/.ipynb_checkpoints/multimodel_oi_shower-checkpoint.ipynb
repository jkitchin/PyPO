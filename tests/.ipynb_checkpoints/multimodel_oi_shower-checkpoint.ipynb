{
 "cells": [
  {
   "cell_type": "code",
   "execution_count": 1,
   "id": "656076b1",
   "metadata": {},
   "outputs": [],
   "source": [
    "import sys\n",
    "sys.path.append('../')\n",
    "\n",
    "from src.pyprop import multimodel_rep, OI_calc\n",
    "\n",
    "import numpy as np\n",
    "from shower import shower2x2\n",
    "\n",
    "\n"
   ]
  },
  {
   "cell_type": "markdown",
   "id": "81b84fd2",
   "metadata": {},
   "source": [
    "Defining The AIS and DOS Bounds"
   ]
  },
  {
   "cell_type": "code",
   "execution_count": 2,
   "id": "e31403d0",
   "metadata": {},
   "outputs": [],
   "source": [
    "DOS_bounds =  np.array([[10, 20], \n",
    "                        [70, 100]])\n",
    "\n",
    "AIS_bounds =  np.array([[0.1, 10],\n",
    "                        [0.1, 10]])\n",
    "\n",
    "AIS_resolution =  [5, 5]\n",
    "\n",
    "model =  shower2x2"
   ]
  },
  {
   "cell_type": "markdown",
   "id": "d26c1286",
   "metadata": {},
   "source": [
    "Obtaining the AOS from the AIS"
   ]
  },
  {
   "cell_type": "code",
   "execution_count": 3,
   "id": "d6fc2cd9",
   "metadata": {},
   "outputs": [],
   "source": [
    "AOS_region  =  multimodel_rep(AIS_bounds, \n",
    "                AIS_resolution, model, polytopic_trace = 'polyhedra')"
   ]
  },
  {
   "cell_type": "code",
   "execution_count": 4,
   "id": "e8849128",
   "metadata": {},
   "outputs": [],
   "source": [
    "OI = OI_calc(AOS_region,\n",
    "            DOS_bounds, hypervol_calc= 'robust')"
   ]
  },
  {
   "cell_type": "code",
   "execution_count": null,
   "id": "763c86f9",
   "metadata": {},
   "outputs": [],
   "source": []
  }
 ],
 "metadata": {
  "kernelspec": {
   "display_name": "Python 3 (Spyder)",
   "language": "python3",
   "name": "python3"
  },
  "language_info": {
   "codemirror_mode": {
    "name": "ipython",
    "version": 3
   },
   "file_extension": ".py",
   "mimetype": "text/x-python",
   "name": "python",
   "nbconvert_exporter": "python",
   "pygments_lexer": "ipython3",
   "version": "3.9.13"
  }
 },
 "nbformat": 4,
 "nbformat_minor": 5
}
