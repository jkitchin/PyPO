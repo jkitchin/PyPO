{
 "cells": [
  {
   "cell_type": "code",
   "execution_count": 2,
   "id": "b3a00ed3",
   "metadata": {},
   "outputs": [],
   "source": [
    "from pyprop import multimodel_rep, OI_calc\n",
    "import numpy as np\n",
    "\n",
    "def shower2x2(u):\n",
    "    \n",
    "    d = np.zeros(2)\n",
    "    y = np.zeros(2)\n",
    "    y[0]=u[0]+u[1]\n",
    "    if y[0]!=0:\n",
    "        y[1]=(u[0]*(60+d[0])+u[1]*(120+d[1]))/(u[0]+u[1])\n",
    "    else:\n",
    "        y[1]=(60+120)/2\n",
    "        \n",
    "    return y\n"
   ]
  },
  {
   "cell_type": "markdown",
   "id": "aecd9003",
   "metadata": {},
   "source": [
    "Defining The AIS and DOS Bounds"
   ]
  },
  {
   "cell_type": "code",
   "execution_count": 3,
   "id": "8d253e65",
   "metadata": {},
   "outputs": [],
   "source": [
    "DOS_bounds =  np.array([[10, 20], \n",
    "                        [70, 100]])\n",
    "\n",
    "AIS_bounds =  np.array([[0.1, 10],\n",
    "                        [0.1, 10]])\n",
    "\n",
    "AIS_resolution =  [5, 5]\n",
    "\n",
    "model =  shower2x2"
   ]
  },
  {
   "cell_type": "markdown",
   "id": "bb9268a8",
   "metadata": {},
   "source": [
    "Obtaining the AOS from the AIS"
   ]
  },
  {
   "cell_type": "code",
   "execution_count": 7,
   "id": "d07a70dc",
   "metadata": {},
   "outputs": [],
   "source": [
    "AOS_region  =  multimodel_rep(AIS_bounds, AIS_resolution, model)"
   ]
  },
  {
   "cell_type": "code",
   "execution_count": 8,
   "id": "f3849696",
   "metadata": {},
   "outputs": [],
   "source": [
    "OI = OI_calc(AOS_region, DOS_bounds)"
   ]
  },
  {
   "cell_type": "code",
   "execution_count": null,
   "id": "9d97ab38",
   "metadata": {},
   "outputs": [],
   "source": []
  }
 ],
 "metadata": {
  "kernelspec": {
   "display_name": "Python 3 (Spyder)",
   "language": "python3",
   "name": "python3"
  },
  "language_info": {
   "codemirror_mode": {
    "name": "ipython",
    "version": 3
   },
   "file_extension": ".py",
   "mimetype": "text/x-python",
   "name": "python",
   "nbconvert_exporter": "python",
   "pygments_lexer": "ipython3",
   "version": "3.9.13"
  }
 },
 "nbformat": 4,
 "nbformat_minor": 5
}
