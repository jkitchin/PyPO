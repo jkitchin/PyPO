{
 "cells": [
  {
   "cell_type": "markdown",
   "metadata": {},
   "source": [
    "## Operability Analysis of a Membrane Reactor for Methane Aromatizaion and Hydrogen Production"
   ]
  },
  {
   "cell_type": "markdown",
   "metadata": {},
   "source": [
    "This case study consists of a membrane reactor for direct methane aromatization (DMA-MR)\n",
    "that allows hydrogen and benzene production from natural gas. This single unit operation\n",
    "is capable of performing reaction and separation simultaneously, allowing for achieving\n",
    "higher conversion of hydrogen due to Le'Chatelier's principle.\n",
    "\n",
    "The DMA-MR model has been extensively studied in process operability analysis due to\n",
    "its particular potential for system modularization and process intensification, as well as\n",
    "the challenging modeling due to its inherent nonlinearity."
   ]
  },
  {
   "cell_type": "markdown",
   "metadata": {},
   "source": [
    "In this case study, some of pypo's feature are highlighted, such as:\n",
    "\n",
    "-  Inverse mapping using state-of-the-art nonlinear programming solvers (e.g., Ipopt)\n",
    "-  Support for automatic differentiation\n",
    "-  Evaluation of operability sets for design and control objectives."
   ]
  },
  {
   "cell_type": "code",
   "execution_count": null,
   "metadata": {},
   "outputs": [],
   "source": [
    "import jax.numpy as np\n",
    "from jax.numpy import pi as pi\n",
    "from jax.experimental.ode import odeint"
   ]
  },
  {
   "cell_type": "markdown",
   "metadata": {},
   "source": [
    "Defining the Kinetic and general parameters for the DMA-MR model"
   ]
  },
  {
   "cell_type": "code",
   "execution_count": null,
   "metadata": {},
   "outputs": [],
   "source": [
    "# Kinetic and general parameters\n",
    "\n",
    "R = 8.314e6                 # [Pa.cm³/(K.mol.)]\n",
    "k1 = 0.04                   # [s-¹]\n",
    "k1_Inv = 6.40e6             # [cm³/s-mol]\n",
    "k2 = 4.20                   # [s-¹]\n",
    "k2_Inv = 56.38              # [cm³/s-mol]\n",
    "\n",
    "    \n",
    "# Molecular weights\n",
    "MM_B = 78.00     #[g/mol] \n",
    "\n",
    "# Fixed Reactor Values\n",
    "T = 1173.15                 # Temperature[K]  =900[°C] (Isothermal)\n",
    "Q = 3600 * 0.01e-4          # [mol/(h.cm².atm1/4)]\n",
    "selec = 1500\n",
    "\n",
    "# Tube side\n",
    "Pt = 101325.0               # Pressure [Pa](1atm)\n",
    "v0 = 3600 * (2 / 15)        # Vol. Flow rate [cm³ h-¹]\n",
    "Ft0 = Pt * v0 / (R * T)     # Initial molar flow rate[mol/h] - Pure CH4\n",
    "\n",
    "# Shell side\n",
    "Ps = 101325.0               # Pressure [Pa](1atm)\n",
    "ds = 3                      # Diameter[cm]\n",
    "v_He = 3600 * (1 / 6)       # Vol. flow rate[cm³/h]\n",
    "F_He = Ps * v_He / (R * T)  # Sweep gas molar flow rate [mol/h]"
   ]
  },
  {
   "cell_type": "markdown",
   "metadata": {},
   "source": [
    "Defining the DMA-MR Model equations (mol balances), compatible with Google's JAX:"
   ]
  },
  {
   "cell_type": "code",
   "execution_count": null,
   "metadata": {},
   "outputs": [],
   "source": [
    "def dma_mr_model(F, z, dt):\n",
    "\n",
    "    At = 0.25 * np.pi * (dt ** 2)  # Cross sectional area[cm³]\n",
    "    \n",
    "    # Avoid negative flows that can happen in the first integration steps.\n",
    "    # Consequently this avoids that any molar balance (^ 1/4 terms) generates\n",
    "    # complex numbers.\n",
    "    F = np.where(F <= 1e-9, 1e-9, F)\n",
    "    \n",
    "\n",
    "    \n",
    "    # Evaluate total flow rate in tube & shell.\n",
    "    Ft = F[0:4].sum()\n",
    "    Fs = F[4:].sum() + F_He\n",
    "    v = v0 * (Ft / Ft0)\n",
    "\n",
    "    # Concentrations from molar flow rates [mol/cm3]\n",
    "    C = F[:4] / v\n",
    "    # Partial pressures - Tube & Shell [mol/cm3]\n",
    "\n",
    "    P0t = (Pt / 101325) * (F[0] / Ft)\n",
    "    P1t = (Pt / 101325) * (F[1] / Ft)\n",
    "    P2t = (Pt / 101325) * (F[2] / Ft)\n",
    "    P3t = (Pt / 101325) * (F[3] / Ft)\n",
    "\n",
    "    P0s = (Ps / 101325) * (F[4] / Fs)\n",
    "    P1s = (Ps / 101325) * (F[5] / Fs)\n",
    "    P2s = (Ps / 101325) * (F[6] / Fs)\n",
    "    P3s = (Ps / 101325) * (F[7] / Fs)\n",
    "    \n",
    "    \n",
    "\n",
    "    \n",
    "    r0 = 3600 * k1 * C[0] * (1 - ((k1_Inv * C[1] * C[2] ** 2) / \n",
    "                                  (k1 * (C[0])**2 )))\n",
    "    \n",
    "\n",
    "    # This replicates an if statement whenever the concentrations are near zero\n",
    "    C0_aux = C[0]\n",
    "    r0 = np.where(C0_aux <= 1e-9, 0, r0)\n",
    "    \n",
    "    r1 = 3600 * k2 * C[1] * (1 - ((k2_Inv * C[3] * C[2] ** 3) / \n",
    "                                  (k2 * (C[1])**3 )))\n",
    "    \n",
    "\n",
    "    # Same as before\n",
    "    C1_aux = C[1]\n",
    "    r1 = np.where(C1_aux <= 1e-9 , 0, r1)  \n",
    "\n",
    "    # Molar balances adjustment with experimental data.\n",
    "    eff = 0.9\n",
    "    vb = 0.5\n",
    "    Cat = (1 - vb) * eff\n",
    "\n",
    "    # Molar balances dFdz - Tube (0 to 3) & Shell (4 to 7)\n",
    "    dF0 = -Cat * r0 * At - (Q / selec) * ((P0t ** 0.25) - (P0s ** 0.25)) * pi * dt\n",
    "    dF1 = 1 / 2 * Cat * r0 * At - Cat * r1 * At - (Q / selec) * ((P1t ** 0.25) - (P1s ** 0.25)) * pi * dt\n",
    "    dF2 = Cat * r0 * At + Cat * r1 * At- (Q) * ((P2t ** 0.25) - (P2s ** 0.25)) * pi * dt\n",
    "    dF3 = (1 / 3) * Cat * r1 * At - (Q / selec) * ((P3t ** 0.25) - (P3s ** 0.25)) * pi * dt\n",
    "    dF4 = (Q / selec) * ((P0t ** 0.25) - (P0s ** 0.25)) * pi * dt\n",
    "    dF5 = (Q / selec) * ((P1t ** 0.25) - (P1s ** 0.25)) * pi * dt\n",
    "    dF6 = (Q) * ((P2t ** 0.25) - (P2s ** 0.25)) * pi * dt\n",
    "    dF7 = (Q / selec) * ((P3t ** 0.25) - (P3s ** 0.25)) * pi * dt\n",
    "    \n",
    "    dFdz = np.array([ dF0, dF1, dF2, dF3, dF4, dF5, dF6, dF7 ])\n",
    "\n",
    "    return dFdz"
   ]
  },
  {
   "cell_type": "markdown",
   "metadata": {},
   "source": [
    "### Analyzing a modular design region using operability inverse mapping"
   ]
  },
  {
   "cell_type": "markdown",
   "metadata": {},
   "source": [
    "Defining the outputs based on the integration of the DMA-MR model equations.\n",
    "\n",
    "AIS/DIS Variables:\n",
    "- Length [cm]\n",
    "- Diameter [cm]\n",
    "\n",
    "AOS/DOS Variables:\n",
    "- Methane conversion [%]\n",
    "- Benzene production [mg/h]"
   ]
  },
  {
   "cell_type": "code",
   "execution_count": null,
   "metadata": {},
   "outputs": [],
   "source": [
    "def dma_mr_design(u):\n",
    "\n",
    "    L =  u[0]\n",
    "    dt = u[1]\n",
    "\n",
    "    # Initial conditions\n",
    "    y0 = np.hstack((Ft0, np.zeros(7)))\n",
    "    rtol, atol = 1e-10, 1e-10\n",
    "\n",
    "    # Integration of mol balances using Jax's Dormand Prince\n",
    "    z = np.linspace(0, L, 2000)\n",
    "    F = odeint(dma_mr_model, y0, z, dt, rtol=rtol, atol=atol)\n",
    "    \n",
    "    # Calculating outputs (AOS/DOS) from states.\n",
    "    F_C6H6 = ((F[-1, 3] * 1000) * MM_B)\n",
    "    X_CH4  = (100 * (Ft0 - F[-1, 0] - F[-1, 4]) / Ft0)\n",
    "\n",
    "    return np.array([F_C6H6, X_CH4])"
   ]
  },
  {
   "cell_type": "markdown",
   "metadata": {},
   "source": [
    "Importing pypo's inverse mapping (NLP-based)"
   ]
  },
  {
   "cell_type": "code",
   "execution_count": null,
   "metadata": {},
   "outputs": [],
   "source": [
    "from pypo import nlp_based_approach"
   ]
  },
  {
   "cell_type": "markdown",
   "metadata": {},
   "source": [
    "Definition of operability sets and its bounds"
   ]
  },
  {
   "cell_type": "code",
   "execution_count": null,
   "metadata": {},
   "outputs": [],
   "source": [
    "# Lower and upper bounds for DOS definition\n",
    "DOS_bounds = np.array([[15,25],\n",
    "                       [35,45]])\n",
    "\n",
    "# Discretization Grid - 10x10 grid for DOS.\n",
    "DOS_resolution =  [5, 5]\n",
    "\n",
    "# Lower and upper bounds of AIS design variables.\n",
    "lb = np.array([10,  0.1])\n",
    "ub = np.array([300, 2])\n",
    "\n",
    "# Initial estimate for NLP.\n",
    "u0 = np.array([50, 1])"
   ]
  },
  {
   "cell_type": "markdown",
   "metadata": {},
   "source": [
    "Defining a nonlinear constraint $L/D \\geq 30 $ to the inverse mapping to guarantee\n",
    "plug-flow operation"
   ]
  },
  {
   "cell_type": "code",
   "execution_count": null,
   "metadata": {},
   "outputs": [],
   "source": [
    "# Plug-flow constraint definition: Length/Diameter >= 30.\n",
    "def plug_flow(u):\n",
    "    return u[0] - 30.0*u[1]\n",
    "\n",
    "con= {'type': 'ineq', 'fun': plug_flow}"
   ]
  },
  {
   "cell_type": "markdown",
   "metadata": {},
   "source": [
    "Obtaining the feasible desired input/output sets $(DIS^*/DOS^*)$ at each discretized point"
   ]
  },
  {
   "cell_type": "code",
   "execution_count": null,
   "metadata": {},
   "outputs": [],
   "source": [
    "# Model assignment: Design Problem - Inverse mapping\n",
    "# Obtain inverse mapping.                                                 \n",
    "fDIS, fDOS, convergence = nlp_based_approach(DOS_bounds, \n",
    "                                             DOS_resolution,\n",
    "                                             dma_mr_design, \n",
    "                                             u0,\n",
    "                                             lb,\n",
    "                                             ub,\n",
    "                                             constr=(con),\n",
    "                                             method='ipopt',\n",
    "                                             plot=True,\n",
    "                                             ad=True,\n",
    "                                             warmstart=True)"
   ]
  },
  {
   "cell_type": "markdown",
   "metadata": {},
   "source": [
    "The inverse mapping shows that there is a design region of tube length around  0.5cm and tube\n",
    "diameter of 17cm that can still attains to the requirement of the DOS."
   ]
  },
  {
   "cell_type": "markdown",
   "metadata": {},
   "source": [
    "### Analyzing the Operability Index (OI) for operational changes (manipulated variables)"
   ]
  },
  {
   "cell_type": "markdown",
   "metadata": {},
   "source": [
    "With a fixed modular design of \n",
    "- Tube length = 17 cm\n",
    "- Tube diameter = 0.5 cm\n",
    "\n",
    "The manipulated variables of the DMA-MR (namely, shell and tube flow rates) are\n",
    "to be analyzed, being the AIS variables for this analysis. As before, the same \n",
    "AOS/DOS variables will be kept to observe if the system is operable under the fixed\n",
    "modular design and varying the manipulated variable throughout their available range."
   ]
  }
 ],
 "metadata": {
  "kernelspec": {
   "display_name": "Python 3 (ipykernel)",
   "language": "python",
   "name": "python3"
  },
  "language_info": {
   "codemirror_mode": {
    "name": "ipython",
    "version": 3
   },
   "file_extension": ".py",
   "mimetype": "text/x-python",
   "name": "python",
   "nbconvert_exporter": "python",
   "pygments_lexer": "ipython3",
   "version": "3.9.13"
  },
  "metadata": {
   "execution": {
    "timeout": 1e+99
   }
  }
 },
 "nbformat": 4,
 "nbformat_minor": 2
}
